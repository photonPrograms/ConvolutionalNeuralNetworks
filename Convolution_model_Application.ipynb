{
 "cells": [
  {
   "cell_type": "markdown",
   "metadata": {},
   "source": [
    "# Convolutional Neural Networks: Application\n",
    "\n",
    "Welcome to Course 4's second assignment! In this notebook, you will:\n",
    "\n",
    "- Create a mood classifer using the TF Keras Sequential API\n",
    "- Build a ConvNet to identify sign language digits using the TF Keras Functional API\n",
    "\n",
    "**After this assignment you will be able to:**\n",
    "\n",
    "- Build and train a ConvNet in TensorFlow for a __binary__ classification problem\n",
    "- Build and train a ConvNet in TensorFlow for a __multiclass__ classification problem\n",
    "- Explain different use cases for the Sequential and Functional APIs\n",
    "\n",
    "To complete this assignment, you should already be familiar with TensorFlow. If you are not, please refer back to the **TensorFlow Tutorial** of the third week of Course 2 (\"**Improving deep neural networks**\")."
   ]
  },
  {
   "cell_type": "markdown",
   "metadata": {},
   "source": [
    "## Table of Contents\n",
    "\n",
    "- [1 - Packages](#1)\n",
    "    - [1.1 - Load the Data and Split the Data into Train/Test Sets](#1-1)\n",
    "- [2 - Layers in TF Keras](#2)\n",
    "- [3 - The Sequential API](#3)\n",
    "    - [3.1 - Create the Sequential Model](#3-1)\n",
    "        - [Exercise 1 - happyModel](#ex-1)\n",
    "    - [3.2 - Train and Evaluate the Model](#3-2)\n",
    "- [4 - The Functional API](#4)\n",
    "    - [4.1 - Load the SIGNS Dataset](#4-1)\n",
    "    - [4.2 - Split the Data into Train/Test Sets](#4-2)\n",
    "    - [4.3 - Forward Propagation](#4-3)\n",
    "        - [Exercise 2 - convolutional_model](#ex-2)\n",
    "    - [4.4 - Train the Model](#4-4)\n",
    "- [5 - History Object](#5)\n",
    "- [6 - Bibliography](#6)"
   ]
  },
  {
   "cell_type": "markdown",
   "metadata": {},
   "source": [
    "<a name='1'></a>\n",
    "## 1 - Packages\n",
    "\n",
    "As usual, begin by loading in the packages."
   ]
  },
  {
   "cell_type": "code",
   "execution_count": 1,
   "metadata": {},
   "outputs": [],
   "source": [
    "import math\n",
    "import numpy as np\n",
    "import h5py\n",
    "import matplotlib.pyplot as plt\n",
    "from matplotlib.pyplot import imread\n",
    "import scipy\n",
    "from PIL import Image\n",
    "import pandas as pd\n",
    "import tensorflow as tf\n",
    "import tensorflow.keras.layers as tfl\n",
    "from tensorflow.python.framework import ops\n",
    "from cnn_utils import *\n",
    "from test_utils import summary, comparator\n",
    "\n",
    "%matplotlib inline\n",
    "np.random.seed(1)"
   ]
  },
  {
   "cell_type": "markdown",
   "metadata": {},
   "source": [
    "<a name='1-1'></a>\n",
    "### 1.1 - Load the Data and Split the Data into Train/Test Sets\n",
    "\n",
    "You'll be using the Happy House dataset for this part of the assignment, which contains images of peoples' faces. Your task will be to build a ConvNet that determines whether the people in the images are smiling or not -- because they only get to enter the house if they're smiling!  "
   ]
  },
  {
   "cell_type": "code",
   "execution_count": 2,
   "metadata": {},
   "outputs": [
    {
     "name": "stdout",
     "output_type": "stream",
     "text": [
      "number of training examples = 600\n",
      "number of test examples = 150\n",
      "X_train shape: (600, 64, 64, 3)\n",
      "Y_train shape: (600, 1)\n",
      "X_test shape: (150, 64, 64, 3)\n",
      "Y_test shape: (150, 1)\n"
     ]
    }
   ],
   "source": [
    "X_train_orig, Y_train_orig, X_test_orig, Y_test_orig, classes = load_happy_dataset()\n",
    "\n",
    "# Normalize image vectors\n",
    "X_train = X_train_orig/255.\n",
    "X_test = X_test_orig/255.\n",
    "\n",
    "# Reshape\n",
    "Y_train = Y_train_orig.T\n",
    "Y_test = Y_test_orig.T\n",
    "\n",
    "print (\"number of training examples = \" + str(X_train.shape[0]))\n",
    "print (\"number of test examples = \" + str(X_test.shape[0]))\n",
    "print (\"X_train shape: \" + str(X_train.shape))\n",
    "print (\"Y_train shape: \" + str(Y_train.shape))\n",
    "print (\"X_test shape: \" + str(X_test.shape))\n",
    "print (\"Y_test shape: \" + str(Y_test.shape))"
   ]
  },
  {
   "cell_type": "markdown",
   "metadata": {},
   "source": [
    "You can display the images contained in the dataset. Images are **64x64** pixels in RGB format (3 channels)."
   ]
  },
  {
   "cell_type": "code",
   "execution_count": 3,
   "metadata": {},
   "outputs": [
    {
     "data": {
      "image/png": "[encoded data removed]",
      "text/plain": [
       "<Figure size 432x288 with 1 Axes>"
      ]
     },
     "metadata": {
      "needs_background": "light"
     },
     "output_type": "display_data"
    }
   ],
   "source": [
    "index = 124\n",
    "plt.imshow(X_train_orig[index]) #display sample training image\n",
    "plt.show()"
   ]
  },
  {
   "cell_type": "markdown",
   "metadata": {},
   "source": [
    "<a name='2'></a>\n",
    "## 2 - Layers in TF Keras \n",
    "\n",
    "In the previous assignment, you created layers manually in numpy. In TF Keras, you don't have to write code directly to create layers. Rather, TF Keras has pre-defined layers you can use. \n",
    "\n",
    "When you create a layer in TF Keras, you are creating a function that takes some input and transforms it into an output you can reuse later. Nice and easy! "
   ]
  },
  {
   "cell_type": "markdown",
   "metadata": {},
   "source": [
    "<a name='3'></a>\n",
    "## 3 - The Sequential API\n",
    "\n",
    "In the previous assignment, you built helper functions using `numpy` to understand the mechanics behind convolutional neural networks. Most practical applications of deep learning today are built using programming frameworks, which have many built-in functions you can simply call. Keras is a high-level abstraction built on top of TensorFlow, which allows for even more simplified and optimized model creation and training. \n",
    "\n",
    "For the first part of this assignment, you'll create a model using TF Keras' Sequential API, which allows you to build layer by layer, and is ideal for building models where each layer has **exactly one** input tensor and **one** output tensor. \n",
    "\n",
    "As you'll see, using the Sequential API is simple and straightforward, but is only appropriate for simpler, more straightforward tasks. Later in this notebook you'll spend some time building with a more flexible, powerful alternative: the Functional API. \n",
    " "
   ]
  },
  {
   "cell_type": "markdown",
   "metadata": {},
   "source": [
    "<a name='3-1'></a>\n",
    "### 3.1 - Create the Sequential Model\n",
    "\n",
    "As mentioned earlier, the TensorFlow Keras Sequential API can be used to build simple models with layer operations that proceed in a sequential order. \n",
    "\n",
    "You can also add layers incrementally to a Sequential model with the `.add()` method, or remove them using the `.pop()` method, much like you would in a regular Python list.\n",
    "\n",
    "Actually, you can think of a Sequential model as behaving like a list of layers. Like Python lists, Sequential layers are ordered, and the order in which they are specified matters.  If your model is non-linear or contains layers with multiple inputs or outputs, a Sequential model wouldn't be the right choice!\n",
    "\n",
    "For any layer construction in Keras, you'll need to specify the input shape in advance. This is because in Keras, the shape of the weights is based on the shape of the inputs. The weights are only created when the model first sees some input data. Sequential models can be created by passing a list of layers to the Sequential constructor, like you will do in the next assignment.\n",
    "\n",
    "<a name='ex-1'></a>\n",
    "### Exercise 1 - happyModel\n",
    "\n",
    "Implement the `happyModel` function below to build the following model: `ZEROPAD2D -> CONV2D -> BATCHNORM -> RELU -> MAXPOOL -> FLATTEN -> DENSE`. Take help from [tf.keras.layers](https://www.tensorflow.org/api_docs/python/tf/keras/layers) \n",
    "\n",
    "Also, plug in the following parameters for all the steps:\n",
    "\n",
    " - [ZeroPadding2D](https://www.tensorflow.org/api_docs/python/tf/keras/layers/ZeroPadding2D): padding 3, input shape 64 x 64 x 3\n",
    " - [Conv2D](https://www.tensorflow.org/api_docs/python/tf/keras/layers/Conv2D): Use 32 7x7 filters, stride 1\n",
    " - [BatchNormalization](https://www.tensorflow.org/api_docs/python/tf/keras/layers/BatchNormalization): for axis 3\n",
    " - [ReLU](https://www.tensorflow.org/api_docs/python/tf/keras/layers/ReLU)\n",
    " - [MaxPool2D](https://www.tensorflow.org/api_docs/python/tf/keras/layers/MaxPool2D): Using default parameters\n",
    " - [Flatten](https://www.tensorflow.org/api_docs/python/tf/keras/layers/Flatten) the previous output.\n",
    " - Fully-connected ([Dense](https://www.tensorflow.org/api_docs/python/tf/keras/layers/Dense)) layer: Apply a fully connected layer with 1 neuron and a sigmoid activation. \n",
    " \n",
    " \n",
    " **Hint:**\n",
    " \n",
    " Use **tfl** as shorthand for **tensorflow.keras.layers**"
   ]
  },
  {
   "cell_type": "code",
   "execution_count": 4,
   "metadata": {
    "deletable": false,
    "nbgrader": {
     "cell_type": "code",
     "checksum": "95d28b191f257bdd5b70c7b8952559d5",
     "grade": false,
     "grade_id": "cell-0e56d3fc28b69aec",
     "locked": false,
     "schema_version": 3,
     "solution": true,
     "task": false
    }
   },
   "outputs": [],
   "source": [
    "# GRADED FUNCTION: happyModel\n",
    "\n",
    "def happyModel():\n",
    "    \"\"\"\n",
    "    Implements the forward propagation for the binary classification model:\n",
    "    ZEROPAD2D -> CONV2D -> BATCHNORM -> RELU -> MAXPOOL -> FLATTEN -> DENSE\n",
    "    \n",
    "    Note that for simplicity and grading purposes, you'll hard-code all the values\n",
    "    such as the stride and kernel (filter) sizes. \n",
    "    Normally, functions should take these values as function parameters.\n",
    "    \n",
    "    Arguments:\n",
    "    None\n",
    "\n",
    "    Returns:\n",
    "    model -- TF Keras model (object containing the information for the entire training process) \n",
    "    \"\"\"\n",
    "    model = tf.keras.Sequential([\n",
    "            ## ZeroPadding2D with padding 3, input shape of 64 x 64 x 3\n",
    "            \n",
    "            ## Conv2D with 32 7x7 filters and stride of 1\n",
    "            \n",
    "            ## BatchNormalization for axis 3\n",
    "            \n",
    "            ## ReLU\n",
    "            \n",
    "            ## Max Pooling 2D with default parameters\n",
    "            \n",
    "            ## Flatten layer\n",
    "            \n",
    "            ## Dense layer with 1 unit for output & 'sigmoid' activation\n",
    "            \n",
    "            # YOUR CODE STARTS HERE\n",
    "            tf.keras.layers.ZeroPadding2D(padding = 3, input_shape = (64, 64, 3)),\n",
    "            tf.keras.layers.Conv2D(filters = 32, kernel_size = (7, 7), strides = 1),\n",
    "            tf.keras.layers.BatchNormalization(axis = 3),\n",
    "            tf.keras.layers.ReLU(),\n",
    "            tf.keras.layers.MaxPool2D(),\n",
    "            tf.keras.layers.Flatten(),\n",
    "            tf.keras.layers.Dense(units = 1, activation = \"sigmoid\")\n",
    "            \n",
    "            # YOUR CODE ENDS HERE\n",
    "        ])\n",
    "    \n",
    "    return model"
   ]
  },
  {
   "cell_type": "code",
   "execution_count": 5,
   "metadata": {
    "deletable": false,
    "editable": false,
    "nbgrader": {
     "cell_type": "code",
     "checksum": "8d3575c950e2e78149be2d05d671c80d",
     "grade": true,
     "grade_id": "cell-e3e1046e5c33d775",
     "locked": true,
     "points": 10,
     "schema_version": 3,
     "solution": false,
     "task": false
    }
   },
   "outputs": [
    {
     "name": "stdout",
     "output_type": "stream",
     "text": [
      "['ZeroPadding2D', (None, 70, 70, 3), 0, ((3, 3), (3, 3))]\n",
      "['Conv2D', (None, 64, 64, 32), 4736, 'valid', 'linear', 'GlorotUniform']\n",
      "['BatchNormalization', (None, 64, 64, 32), 128]\n",
      "['ReLU', (None, 64, 64, 32), 0]\n",
      "['MaxPooling2D', (None, 32, 32, 32), 0, (2, 2), (2, 2), 'valid']\n",
      "['Flatten', (None, 32768), 0]\n",
      "['Dense', (None, 1), 32769, 'sigmoid']\n",
      "\u001b[32mAll tests passed!\u001b[0m\n"
     ]
    }
   ],
   "source": [
    "happy_model = happyModel()\n",
    "# Print a summary for each layer\n",
    "for layer in summary(happy_model):\n",
    "    print(layer)\n",
    "    \n",
    "output = [['ZeroPadding2D', (None, 70, 70, 3), 0, ((3, 3), (3, 3))],\n",
    "            ['Conv2D', (None, 64, 64, 32), 4736, 'valid', 'linear', 'GlorotUniform'],\n",
    "            ['BatchNormalization', (None, 64, 64, 32), 128],\n",
    "            ['ReLU', (None, 64, 64, 32), 0],\n",
    "            ['MaxPooling2D', (None, 32, 32, 32), 0, (2, 2), (2, 2), 'valid'],\n",
    "            ['Flatten', (None, 32768), 0],\n",
    "            ['Dense', (None, 1), 32769, 'sigmoid']]\n",
    "    \n",
    "comparator(summary(happy_model), output)"
   ]
  },
  {
   "cell_type": "markdown",
   "metadata": {},
   "source": [
    "Now that your model is created, you can compile it for training with an optimizer and loss of your choice. When the string `accuracy` is specified as a metric, the type of accuracy used will be automatically converted based on the loss function used. This is one of the many optimizations built into TensorFlow that make your life easier! If you'd like to read more on how the compiler operates, check the docs [here](https://www.tensorflow.org/api_docs/python/tf/keras/Model#compile)."
   ]
  },
  {
   "cell_type": "code",
   "execution_count": 6,
   "metadata": {},
   "outputs": [],
   "source": [
    "happy_model.compile(optimizer='adam',\n",
    "                   loss='binary_crossentropy',\n",
    "                   metrics=['accuracy'])"
   ]
  },
  {
   "cell_type": "markdown",
   "metadata": {},
   "source": [
    "It's time to check your model's parameters with the `.summary()` method. This will display the types of layers you have, the shape of the outputs, and how many parameters are in each layer. "
   ]
  },
  {
   "cell_type": "code",
   "execution_count": 7,
   "metadata": {},
   "outputs": [
    {
     "name": "stdout",
     "output_type": "stream",
     "text": [
      "Model: \"sequential\"\n",
      "_________________________________________________________________\n",
      "Layer (type)                 Output Shape              Param #   \n",
      "=================================================================\n",
      "zero_padding2d (ZeroPadding2 (None, 70, 70, 3)         0         \n",
      "_________________________________________________________________\n",
      "conv2d (Conv2D)              (None, 64, 64, 32)        4736      \n",
      "_________________________________________________________________\n",
      "batch_normalization (BatchNo (None, 64, 64, 32)        128       \n",
      "_________________________________________________________________\n",
      "re_lu (ReLU)                 (None, 64, 64, 32)        0         \n",
      "_________________________________________________________________\n",
      "max_pooling2d (MaxPooling2D) (None, 32, 32, 32)        0         \n",
      "_________________________________________________________________\n",
      "flatten (Flatten)            (None, 32768)             0         \n",
      "_________________________________________________________________\n",
      "dense (Dense)                (None, 1)                 32769     \n",
      "=================================================================\n",
      "Total params: 37,633\n",
      "Trainable params: 37,569\n",
      "Non-trainable params: 64\n",
      "_________________________________________________________________\n"
     ]
    }
   ],
   "source": [
    "happy_model.summary()"
   ]
  },
  {
   "cell_type": "markdown",
   "metadata": {},
   "source": [
    "<a name='3-2'></a>\n",
    "### 3.2 - Train and Evaluate the Model\n",
    "\n",
    "After creating the model, compiling it with your choice of optimizer and loss function, and doing a sanity check on its contents, you are now ready to build! \n",
    "\n",
    "Simply call `.fit()` to train. That's it! No need for mini-batching, saving, or complex backpropagation computations. That's all been done for you, as you're using a TensorFlow dataset with the batches specified already. You do have the option to specify epoch number or minibatch size if you like (for example, in the case of an un-batched dataset)."
   ]
  },
  {
   "cell_type": "code",
   "execution_count": 8,
   "metadata": {},
   "outputs": [
    {
     "name": "stdout",
     "output_type": "stream",
     "text": [
      "Epoch 1/10\n",
      "38/38 [==============================] - 4s 100ms/step - loss: 1.3713 - accuracy: 0.6933\n",
      "Epoch 2/10\n",
      "38/38 [==============================] - 4s 95ms/step - loss: 0.1791 - accuracy: 0.9267\n",
      "Epoch 3/10\n",
      "38/38 [==============================] - 4s 97ms/step - loss: 0.1617 - accuracy: 0.9383\n",
      "Epoch 4/10\n",
      "38/38 [==============================] - 4s 95ms/step - loss: 0.1126 - accuracy: 0.9583\n",
      "Epoch 5/10\n",
      "38/38 [==============================] - 4s 95ms/step - loss: 0.0958 - accuracy: 0.9667\n",
      "Epoch 6/10\n",
      "38/38 [==============================] - 4s 95ms/step - loss: 0.1538 - accuracy: 0.9350\n",
      "Epoch 7/10\n",
      "38/38 [==============================] - 4s 95ms/step - loss: 0.0946 - accuracy: 0.9633\n",
      "Epoch 8/10\n",
      "38/38 [==============================] - 4s 97ms/step - loss: 0.1107 - accuracy: 0.9583\n",
      "Epoch 9/10\n",
      "38/38 [==============================] - 4s 95ms/step - loss: 0.1448 - accuracy: 0.9367\n",
      "Epoch 10/10\n",
      "38/38 [==============================] - 4s 95ms/step - loss: 0.2075 - accuracy: 0.9183\n"
     ]
    },
    {
     "data": {
      "text/plain": [
       "<tensorflow.python.keras.callbacks.History at 0x7fabc0196950>"
      ]
     },
     "execution_count": 8,
     "metadata": {},
     "output_type": "execute_result"
    }
   ],
   "source": [
    "happy_model.fit(X_train, Y_train, epochs=10, batch_size=16)"
   ]
  },
  {
   "cell_type": "markdown",
   "metadata": {},
   "source": [
    "After that completes, just use `.evaluate()` to evaluate against your test set. This function will print the value of the loss function and the performance metrics specified during the compilation of the model. In this case, the `binary_crossentropy` and the `accuracy` respectively."
   ]
  },
  {
   "cell_type": "code",
   "execution_count": 9,
   "metadata": {},
   "outputs": [
    {
     "name": "stdout",
     "output_type": "stream",
     "text": [
      "5/5 [==============================] - 0s 28ms/step - loss: 0.3539 - accuracy: 0.8133\n"
     ]
    },
    {
     "data": {
      "text/plain": [
       "[0.3539372384548187, 0.8133333325386047]"
      ]
     },
     "execution_count": 9,
     "metadata": {},
     "output_type": "execute_result"
    }
   ],
   "source": [
    "happy_model.evaluate(X_test, Y_test)"
   ]
  },
  {
   "cell_type": "markdown",
   "metadata": {},
   "source": [
    "Easy, right? But what if you need to build a model with shared layers, branches, or multiple inputs and outputs? This is where Sequential, with its beautifully simple yet limited functionality, won't be able to help you. \n",
    "\n",
    "Next up: Enter the Functional API, your slightly more complex, highly flexible friend.  "
   ]
  },
  {
   "cell_type": "markdown",
   "metadata": {},
   "source": [
    "<a name='4'></a>\n",
    "## 4 - The Functional API"
   ]
  },
  {
   "cell_type": "markdown",
   "metadata": {},
   "source": [
    "Welcome to the second half of the assignment, where you'll use Keras' flexible [Functional API](https://www.tensorflow.org/guide/keras/functional) to build a ConvNet that can differentiate between 6 sign language digits. \n",
    "\n",
    "The Functional API can handle models with non-linear topology, shared layers, as well as layers with multiple inputs or outputs. Imagine that, where the Sequential API requires the model to move in a linear fashion through its layers, the Functional API allows much more flexibility. Where Sequential is a straight line, a Functional model is a graph, where the nodes of the layers can connect in many more ways than one. \n",
    "\n",
    "In the visual example below, the one possible direction of the movement Sequential model is shown in contrast to a skip connection, which is just one of the many ways a Functional model can be constructed. A skip connection, as you might have guessed, skips some layer in the network and feeds the output to a later layer in the network. Don't worry, you'll be spending more time with skip connections very soon! "
   ]
  },
  {
   "cell_type": "markdown",
   "metadata": {},
   "source": [
    "<img src=\"images/seq_vs_func.png\" style=\"width:350px;height:200px;\">"
   ]
  },
  {
   "cell_type": "markdown",
   "metadata": {},
   "source": [
    "<a name='4-1'></a>\n",
    "### 4.1 - Load the SIGNS Dataset\n",
    "\n",
    "As a reminder, the SIGNS dataset is a collection of 6 signs representing numbers from 0 to 5."
   ]
  },
  {
   "cell_type": "code",
   "execution_count": 10,
   "metadata": {},
   "outputs": [],
   "source": [
    "# Loading the data (signs)\n",
    "X_train_orig, Y_train_orig, X_test_orig, Y_test_orig, classes = load_signs_dataset()"
   ]
  },
  {
   "cell_type": "markdown",
   "metadata": {},
   "source": [
    "<img src=\"images/SIGNS.png\" style=\"width:800px;height:300px;\">\n",
    "\n",
    "The next cell will show you an example of a labelled image in the dataset. Feel free to change the value of `index` below and re-run to see different examples. "
   ]
  },
  {
   "cell_type": "code",
   "execution_count": 11,
   "metadata": {},
   "outputs": [
    {
     "name": "stdout",
     "output_type": "stream",
     "text": [
      "y = 4\n"
     ]
    },
    {
     "data": {
      "image/png": "[encoded data removed]",
      "text/plain": [
       "<Figure size 432x288 with 1 Axes>"
      ]
     },
     "metadata": {
      "needs_background": "light"
     },
     "output_type": "display_data"
    }
   ],
   "source": [
    "# Example of an image from the dataset\n",
    "index = 9\n",
    "plt.imshow(X_train_orig[index])\n",
    "print (\"y = \" + str(np.squeeze(Y_train_orig[:, index])))"
   ]
  },
  {
   "cell_type": "markdown",
   "metadata": {},
   "source": [
    "<a name='4-2'></a>\n",
    "### 4.2 - Split the Data into Train/Test Sets\n",
    "\n",
    "In Course 2, you built a fully-connected network for this dataset. But since this is an image dataset, it is more natural to apply a ConvNet to it.\n",
    "\n",
    "To get started, let's examine the shapes of your data. "
   ]
  },
  {
   "cell_type": "code",
   "execution_count": 12,
   "metadata": {},
   "outputs": [
    {
     "name": "stdout",
     "output_type": "stream",
     "text": [
      "number of training examples = 1080\n",
      "number of test examples = 120\n",
      "X_train shape: (1080, 64, 64, 3)\n",
      "Y_train shape: (1080, 6)\n",
      "X_test shape: (120, 64, 64, 3)\n",
      "Y_test shape: (120, 6)\n"
     ]
    }
   ],
   "source": [
    "X_train = X_train_orig/255.\n",
    "X_test = X_test_orig/255.\n",
    "Y_train = convert_to_one_hot(Y_train_orig, 6).T\n",
    "Y_test = convert_to_one_hot(Y_test_orig, 6).T\n",
    "print (\"number of training examples = \" + str(X_train.shape[0]))\n",
    "print (\"number of test examples = \" + str(X_test.shape[0]))\n",
    "print (\"X_train shape: \" + str(X_train.shape))\n",
    "print (\"Y_train shape: \" + str(Y_train.shape))\n",
    "print (\"X_test shape: \" + str(X_test.shape))\n",
    "print (\"Y_test shape: \" + str(Y_test.shape))"
   ]
  },
  {
   "cell_type": "markdown",
   "metadata": {},
   "source": [
    "<a name='4-3'></a>\n",
    "### 4.3 - Forward Propagation\n",
    "\n",
    "In TensorFlow, there are built-in functions that implement the convolution steps for you. By now, you should be familiar with how TensorFlow builds computational graphs. In the [Functional API](https://www.tensorflow.org/guide/keras/functional), you create a graph of layers. This is what allows such great flexibility.\n",
    "\n",
    "However, the following model could also be defined using the Sequential API since the information flow is on a single line. But don't deviate. What we want you to learn is to use the functional API.\n",
    "\n",
    "Begin building your graph of layers by creating an input node that functions as a callable object:\n",
    "\n",
    "- **input_img = tf.keras.Input(shape=input_shape):** \n",
    "\n",
    "Then, create a new node in the graph of layers by calling a layer on the `input_img` object: \n",
    "\n",
    "- **tf.keras.layers.Conv2D(filters= ... , kernel_size= ... , padding='same')(input_img):** Read the full documentation on [Conv2D](https://www.tensorflow.org/api_docs/python/tf/keras/layers/Conv2D).\n",
    "\n",
    "- **tf.keras.layers.MaxPool2D(pool_size=(f, f), strides=(s, s), padding='same'):** `MaxPool2D()` downsamples your input using a window of size (f, f) and strides of size (s, s) to carry out max pooling over each window.  For max pooling, you usually operate on a single example at a time and a single channel at a time. Read the full documentation on [MaxPool2D](https://www.tensorflow.org/api_docs/python/tf/keras/layers/MaxPool2D).\n",
    "\n",
    "- **tf.keras.layers.ReLU():** computes the elementwise ReLU of Z (which can be any shape). You can read the full documentation on [ReLU](https://www.tensorflow.org/api_docs/python/tf/keras/layers/ReLU).\n",
    "\n",
    "- **tf.keras.layers.Flatten()**: given a tensor \"P\", this function takes each training (or test) example in the batch and flattens it into a 1D vector.  \n",
    "\n",
    "    * If a tensor P has the shape (batch_size,h,w,c), it returns a flattened tensor with shape (batch_size, k), where $k=h \\times w \\times c$.  \"k\" equals the product of all the dimension sizes other than the first dimension.\n",
    "    \n",
    "    * For example, given a tensor with dimensions [100, 2, 3, 4], it flattens the tensor to be of shape [100, 24], where 24 = 2 * 3 * 4.  You can read the full documentation on [Flatten](https://www.tensorflow.org/api_docs/python/tf/keras/layers/Flatten).\n",
    "\n",
    "- **tf.keras.layers.Dense(units= ... , activation='softmax')(F):** given the flattened input F, it returns the output computed using a fully connected layer. You can read the full documentation on [Dense](https://www.tensorflow.org/api_docs/python/tf/keras/layers/Dense).\n",
    "\n",
    "In the last function above (`tf.keras.layers.Dense()`), the fully connected layer automatically initializes weights in the graph and keeps on training them as you train the model. Hence, you did not need to initialize those weights when initializing the parameters.\n",
    "\n",
    "Lastly, before creating the model, you'll need to define the output using the last of the function's compositions (in this example, a Dense layer): \n",
    "\n",
    "- **outputs = tf.keras.layers.Dense(units=6, activation='softmax')(F)**\n",
    "\n",
    "\n",
    "#### Window, kernel, filter, pool\n",
    "\n",
    "The words \"kernel\" and \"filter\" are used to refer to the same thing. The word \"filter\" accounts for the amount of \"kernels\" that will be used in a single convolution layer. \"Pool\" is the name of the operation that takes the max or average value of the kernels. \n",
    "\n",
    "This is why the parameter `pool_size` refers to `kernel_size`, and you use `(f,f)` to refer to the filter size. \n",
    "\n",
    "Pool size and kernel size refer to the same thing in different objects - They refer to the shape of the window where the operation takes place. "
   ]
  },
  {
   "cell_type": "markdown",
   "metadata": {},
   "source": [
    "<a name='ex-2'></a>\n",
    "### Exercise 2 - convolutional_model\n",
    "\n",
    "Implement the `convolutional_model` function below to build the following model: `CONV2D -> RELU -> MAXPOOL -> CONV2D -> RELU -> MAXPOOL -> FLATTEN -> DENSE`. Use the functions above! \n",
    "\n",
    "Also, plug in the following parameters for all the steps:\n",
    "\n",
    " - [Conv2D](https://www.tensorflow.org/api_docs/python/tf/keras/layers/Conv2D): Use 8 4 by 4 filters, stride 1, padding is \"SAME\"\n",
    " - [ReLU](https://www.tensorflow.org/api_docs/python/tf/keras/layers/ReLU)\n",
    " - [MaxPool2D](https://www.tensorflow.org/api_docs/python/tf/keras/layers/MaxPool2D): Use an 8 by 8 filter size and an 8 by 8 stride, padding is \"SAME\"\n",
    " - **Conv2D**: Use 16 2 by 2 filters, stride 1, padding is \"SAME\"\n",
    " - **ReLU**\n",
    " - **MaxPool2D**: Use a 4 by 4 filter size and a 4 by 4 stride, padding is \"SAME\"\n",
    " - [Flatten](https://www.tensorflow.org/api_docs/python/tf/keras/layers/Flatten) the previous output.\n",
    " - Fully-connected ([Dense](https://www.tensorflow.org/api_docs/python/tf/keras/layers/Dense)) layer: Apply a fully connected layer with 6 neurons and a softmax activation. "
   ]
  },
  {
   "cell_type": "code",
   "execution_count": 17,
   "metadata": {
    "deletable": false,
    "nbgrader": {
     "cell_type": "code",
     "checksum": "f58643806aa8380c96225fc8b4c5e7aa",
     "grade": false,
     "grade_id": "cell-dac51744a9e03f51",
     "locked": false,
     "schema_version": 3,
     "solution": true,
     "task": false
    }
   },
   "outputs": [],
   "source": [
    "# GRADED FUNCTION: convolutional_model\n",
    "\n",
    "def convolutional_model(input_shape):\n",
    "    \"\"\"\n",
    "    Implements the forward propagation for the model:\n",
    "    CONV2D -> RELU -> MAXPOOL -> CONV2D -> RELU -> MAXPOOL -> FLATTEN -> DENSE\n",
    "    \n",
    "    Note that for simplicity and grading purposes, you'll hard-code some values\n",
    "    such as the stride and kernel (filter) sizes. \n",
    "    Normally, functions should take these values as function parameters.\n",
    "    \n",
    "    Arguments:\n",
    "    input_img -- input dataset, of shape (input_shape)\n",
    "\n",
    "    Returns:\n",
    "    model -- TF Keras model (object containing the information for the entire training process) \n",
    "    \"\"\"\n",
    "\n",
    "    input_img = tf.keras.Input(shape=input_shape)\n",
    "    ## CONV2D: 8 filters 4x4, stride of 1, padding 'SAME'\n",
    "    # Z1 = None\n",
    "    ## RELU\n",
    "    # A1 = None\n",
    "    ## MAXPOOL: window 8x8, stride 8, padding 'SAME'\n",
    "    # P1 = None\n",
    "    ## CONV2D: 16 filters 2x2, stride 1, padding 'SAME'\n",
    "    # Z2 = None\n",
    "    ## RELU\n",
    "    # A2 = None\n",
    "    ## MAXPOOL: window 4x4, stride 4, padding 'SAME'\n",
    "    # P2 = None\n",
    "    ## FLATTEN\n",
    "    # F = None\n",
    "    ## Dense layer\n",
    "    ## 6 neurons in output layer. Hint: one of the arguments should be \"activation='softmax'\" \n",
    "    # outputs = None\n",
    "    # YOUR CODE STARTS HERE\n",
    "    Z1 = tf.keras.layers.Conv2D(filters = 8, kernel_size = (4, 4), strides = 1, padding = \"same\")(input_img)\n",
    "    A1 = tf.keras.layers.ReLU()(Z1)\n",
    "    P1 = tf.keras.layers.MaxPool2D(pool_size = (8, 8), strides = 8, padding = \"same\")(A1)\n",
    "    Z2 = tf.keras.layers.Conv2D(filters = 16, kernel_size = (2, 2), strides = 1, padding = \"same\")(P1)\n",
    "    A2 = tf.keras.layers.ReLU()(Z2)\n",
    "    P2 = tf.keras.layers.MaxPool2D(pool_size = (4, 4), strides = 4, padding = \"same\")(A2)\n",
    "    F = tf.keras.layers.Flatten()(P2)\n",
    "    outputs = tf.keras.layers.Dense(units = 6, activation = \"softmax\")(F)\n",
    "    \n",
    "    # YOUR CODE ENDS HERE\n",
    "    model = tf.keras.Model(inputs=input_img, outputs=outputs)\n",
    "    return model"
   ]
  },
  {
   "cell_type": "code",
   "execution_count": 18,
   "metadata": {
    "deletable": false,
    "editable": false,
    "nbgrader": {
     "cell_type": "code",
     "checksum": "483d626949930a0b0ef20997e7c6ba72",
     "grade": true,
     "grade_id": "cell-45d22e92042174c9",
     "locked": true,
     "points": 10,
     "schema_version": 3,
     "solution": false,
     "task": false
    }
   },
   "outputs": [
    {
     "name": "stdout",
     "output_type": "stream",
     "text": [
      "Model: \"functional_3\"\n",
      "_________________________________________________________________\n",
      "Layer (type)                 Output Shape              Param #   \n",
      "=================================================================\n",
      "input_3 (InputLayer)         [(None, 64, 64, 3)]       0         \n",
      "_________________________________________________________________\n",
      "conv2d_5 (Conv2D)            (None, 64, 64, 8)         392       \n",
      "_________________________________________________________________\n",
      "re_lu_5 (ReLU)               (None, 64, 64, 8)         0         \n",
      "_________________________________________________________________\n",
      "max_pooling2d_4 (MaxPooling2 (None, 8, 8, 8)           0         \n",
      "_________________________________________________________________\n",
      "conv2d_6 (Conv2D)            (None, 8, 8, 16)          528       \n",
      "_________________________________________________________________\n",
      "re_lu_6 (ReLU)               (None, 8, 8, 16)          0         \n",
      "_________________________________________________________________\n",
      "max_pooling2d_5 (MaxPooling2 (None, 2, 2, 16)          0         \n",
      "_________________________________________________________________\n",
      "flatten_2 (Flatten)          (None, 64)                0         \n",
      "_________________________________________________________________\n",
      "dense_2 (Dense)              (None, 6)                 390       \n",
      "=================================================================\n",
      "Total params: 1,310\n",
      "Trainable params: 1,310\n",
      "Non-trainable params: 0\n",
      "_________________________________________________________________\n",
      "\u001b[32mAll tests passed!\u001b[0m\n"
     ]
    }
   ],
   "source": [
    "conv_model = convolutional_model((64, 64, 3))\n",
    "conv_model.compile(optimizer='adam',\n",
    "                  loss='categorical_crossentropy',\n",
    "                  metrics=['accuracy'])\n",
    "conv_model.summary()\n",
    "    \n",
    "output = [['InputLayer', [(None, 64, 64, 3)], 0],\n",
    "        ['Conv2D', (None, 64, 64, 8), 392, 'same', 'linear', 'GlorotUniform'],\n",
    "        ['ReLU', (None, 64, 64, 8), 0],\n",
    "        ['MaxPooling2D', (None, 8, 8, 8), 0, (8, 8), (8, 8), 'same'],\n",
    "        ['Conv2D', (None, 8, 8, 16), 528, 'same', 'linear', 'GlorotUniform'],\n",
    "        ['ReLU', (None, 8, 8, 16), 0],\n",
    "        ['MaxPooling2D', (None, 2, 2, 16), 0, (4, 4), (4, 4), 'same'],\n",
    "        ['Flatten', (None, 64), 0],\n",
    "        ['Dense', (None, 6), 390, 'softmax']]\n",
    "    \n",
    "comparator(summary(conv_model), output)"
   ]
  },
  {
   "cell_type": "markdown",
   "metadata": {},
   "source": [
    "Both the Sequential and Functional APIs return a TF Keras model object. The only difference is how inputs are handled inside the object model! "
   ]
  },
  {
   "cell_type": "markdown",
   "metadata": {},
   "source": [
    "<a name='4-4'></a>\n",
    "### 4.4 - Train the Model"
   ]
  },
  {
   "cell_type": "code",
   "execution_count": 19,
   "metadata": {},
   "outputs": [
    {
     "name": "stdout",
     "output_type": "stream",
     "text": [
      "Epoch 1/100\n",
      "17/17 [==============================] - 2s 107ms/step - loss: 1.8360 - accuracy: 0.1667 - val_loss: 1.7873 - val_accuracy: 0.1667\n",
      "Epoch 2/100\n",
      "17/17 [==============================] - 2s 106ms/step - loss: 1.7877 - accuracy: 0.1704 - val_loss: 1.7807 - val_accuracy: 0.1833\n",
      "Epoch 3/100\n",
      "17/17 [==============================] - 2s 106ms/step - loss: 1.7820 - accuracy: 0.2463 - val_loss: 1.7765 - val_accuracy: 0.3250\n",
      "Epoch 4/100\n",
      "17/17 [==============================] - 2s 106ms/step - loss: 1.7781 - accuracy: 0.2454 - val_loss: 1.7723 - val_accuracy: 0.3917\n",
      "Epoch 5/100\n",
      "17/17 [==============================] - 2s 106ms/step - loss: 1.7739 - accuracy: 0.2815 - val_loss: 1.7670 - val_accuracy: 0.4083\n",
      "Epoch 6/100\n",
      "17/17 [==============================] - 2s 106ms/step - loss: 1.7687 - accuracy: 0.3213 - val_loss: 1.7606 - val_accuracy: 0.4167\n",
      "Epoch 7/100\n",
      "17/17 [==============================] - 2s 106ms/step - loss: 1.7624 - accuracy: 0.3343 - val_loss: 1.7527 - val_accuracy: 0.4750\n",
      "Epoch 8/100\n",
      "17/17 [==============================] - 2s 106ms/step - loss: 1.7536 - accuracy: 0.3722 - val_loss: 1.7424 - val_accuracy: 0.4833\n",
      "Epoch 9/100\n",
      "17/17 [==============================] - 2s 106ms/step - loss: 1.7436 - accuracy: 0.3843 - val_loss: 1.7300 - val_accuracy: 0.4750\n",
      "Epoch 10/100\n",
      "17/17 [==============================] - 2s 106ms/step - loss: 1.7319 - accuracy: 0.4000 - val_loss: 1.7151 - val_accuracy: 0.4833\n",
      "Epoch 11/100\n",
      "17/17 [==============================] - 2s 106ms/step - loss: 1.7175 - accuracy: 0.4120 - val_loss: 1.6975 - val_accuracy: 0.4583\n",
      "Epoch 12/100\n",
      "17/17 [==============================] - 2s 102ms/step - loss: 1.7009 - accuracy: 0.4130 - val_loss: 1.6759 - val_accuracy: 0.4917\n",
      "Epoch 13/100\n",
      "17/17 [==============================] - 2s 106ms/step - loss: 1.6815 - accuracy: 0.4250 - val_loss: 1.6517 - val_accuracy: 0.5000\n",
      "Epoch 14/100\n",
      "17/17 [==============================] - 2s 106ms/step - loss: 1.6595 - accuracy: 0.4417 - val_loss: 1.6242 - val_accuracy: 0.5167\n",
      "Epoch 15/100\n",
      "17/17 [==============================] - 2s 106ms/step - loss: 1.6342 - accuracy: 0.4583 - val_loss: 1.5939 - val_accuracy: 0.5333\n",
      "Epoch 16/100\n",
      "17/17 [==============================] - 2s 106ms/step - loss: 1.6061 - accuracy: 0.4657 - val_loss: 1.5618 - val_accuracy: 0.5417\n",
      "Epoch 17/100\n",
      "17/17 [==============================] - 2s 106ms/step - loss: 1.5759 - accuracy: 0.4815 - val_loss: 1.5275 - val_accuracy: 0.5417\n",
      "Epoch 18/100\n",
      "17/17 [==============================] - 2s 106ms/step - loss: 1.5437 - accuracy: 0.4917 - val_loss: 1.4915 - val_accuracy: 0.5250\n",
      "Epoch 19/100\n",
      "17/17 [==============================] - 2s 106ms/step - loss: 1.5101 - accuracy: 0.5065 - val_loss: 1.4548 - val_accuracy: 0.5667\n",
      "Epoch 20/100\n",
      "17/17 [==============================] - 2s 106ms/step - loss: 1.4752 - accuracy: 0.5130 - val_loss: 1.4175 - val_accuracy: 0.5750\n",
      "Epoch 21/100\n",
      "17/17 [==============================] - 2s 106ms/step - loss: 1.4396 - accuracy: 0.5352 - val_loss: 1.3806 - val_accuracy: 0.5750\n",
      "Epoch 22/100\n",
      "17/17 [==============================] - 2s 106ms/step - loss: 1.4032 - accuracy: 0.5407 - val_loss: 1.3461 - val_accuracy: 0.5917\n",
      "Epoch 23/100\n",
      "17/17 [==============================] - 2s 111ms/step - loss: 1.3667 - accuracy: 0.5435 - val_loss: 1.3117 - val_accuracy: 0.5500\n",
      "Epoch 24/100\n",
      "17/17 [==============================] - 2s 106ms/step - loss: 1.3314 - accuracy: 0.5481 - val_loss: 1.2742 - val_accuracy: 0.5583\n",
      "Epoch 25/100\n",
      "17/17 [==============================] - 2s 106ms/step - loss: 1.2947 - accuracy: 0.5667 - val_loss: 1.2380 - val_accuracy: 0.5667\n",
      "Epoch 26/100\n",
      "17/17 [==============================] - 2s 102ms/step - loss: 1.2578 - accuracy: 0.5824 - val_loss: 1.2009 - val_accuracy: 0.5917\n",
      "Epoch 27/100\n",
      "17/17 [==============================] - 2s 106ms/step - loss: 1.2217 - accuracy: 0.5926 - val_loss: 1.1685 - val_accuracy: 0.5917\n",
      "Epoch 28/100\n",
      "17/17 [==============================] - 2s 106ms/step - loss: 1.1872 - accuracy: 0.6065 - val_loss: 1.1377 - val_accuracy: 0.5917\n",
      "Epoch 29/100\n",
      "17/17 [==============================] - 2s 106ms/step - loss: 1.1542 - accuracy: 0.6102 - val_loss: 1.1069 - val_accuracy: 0.5833\n",
      "Epoch 30/100\n",
      "17/17 [==============================] - 2s 106ms/step - loss: 1.1230 - accuracy: 0.6222 - val_loss: 1.0768 - val_accuracy: 0.6083\n",
      "Epoch 31/100\n",
      "17/17 [==============================] - 2s 106ms/step - loss: 1.0926 - accuracy: 0.6370 - val_loss: 1.0496 - val_accuracy: 0.6250\n",
      "Epoch 32/100\n",
      "17/17 [==============================] - 2s 106ms/step - loss: 1.0653 - accuracy: 0.6426 - val_loss: 1.0234 - val_accuracy: 0.6500\n",
      "Epoch 33/100\n",
      "17/17 [==============================] - 2s 106ms/step - loss: 1.0382 - accuracy: 0.6491 - val_loss: 0.9998 - val_accuracy: 0.6667\n",
      "Epoch 34/100\n",
      "17/17 [==============================] - 2s 111ms/step - loss: 1.0144 - accuracy: 0.6556 - val_loss: 0.9761 - val_accuracy: 0.6750\n",
      "Epoch 35/100\n",
      "17/17 [==============================] - 2s 111ms/step - loss: 0.9901 - accuracy: 0.6657 - val_loss: 0.9549 - val_accuracy: 0.6750\n",
      "Epoch 36/100\n",
      "17/17 [==============================] - 2s 106ms/step - loss: 0.9687 - accuracy: 0.6704 - val_loss: 0.9353 - val_accuracy: 0.6833\n",
      "Epoch 37/100\n",
      "17/17 [==============================] - 2s 111ms/step - loss: 0.9484 - accuracy: 0.6815 - val_loss: 0.9158 - val_accuracy: 0.6833\n",
      "Epoch 38/100\n",
      "17/17 [==============================] - 2s 111ms/step - loss: 0.9287 - accuracy: 0.6889 - val_loss: 0.8970 - val_accuracy: 0.6917\n",
      "Epoch 39/100\n",
      "17/17 [==============================] - 2s 111ms/step - loss: 0.9099 - accuracy: 0.6944 - val_loss: 0.8790 - val_accuracy: 0.7000\n",
      "Epoch 40/100\n",
      "17/17 [==============================] - 2s 107ms/step - loss: 0.8918 - accuracy: 0.7000 - val_loss: 0.8627 - val_accuracy: 0.7000\n",
      "Epoch 41/100\n",
      "17/17 [==============================] - 2s 106ms/step - loss: 0.8747 - accuracy: 0.7056 - val_loss: 0.8460 - val_accuracy: 0.7167\n",
      "Epoch 42/100\n",
      "17/17 [==============================] - 2s 106ms/step - loss: 0.8582 - accuracy: 0.7102 - val_loss: 0.8311 - val_accuracy: 0.7250\n",
      "Epoch 43/100\n",
      "17/17 [==============================] - 2s 101ms/step - loss: 0.8427 - accuracy: 0.7148 - val_loss: 0.8158 - val_accuracy: 0.7250\n",
      "Epoch 44/100\n",
      "17/17 [==============================] - 2s 106ms/step - loss: 0.8270 - accuracy: 0.7250 - val_loss: 0.8020 - val_accuracy: 0.7500\n",
      "Epoch 45/100\n",
      "17/17 [==============================] - 2s 111ms/step - loss: 0.8128 - accuracy: 0.7278 - val_loss: 0.7895 - val_accuracy: 0.7417\n",
      "Epoch 46/100\n",
      "17/17 [==============================] - 2s 106ms/step - loss: 0.7992 - accuracy: 0.7370 - val_loss: 0.7770 - val_accuracy: 0.7500\n",
      "Epoch 47/100\n",
      "17/17 [==============================] - 2s 101ms/step - loss: 0.7860 - accuracy: 0.7380 - val_loss: 0.7651 - val_accuracy: 0.7583\n",
      "Epoch 48/100\n",
      "17/17 [==============================] - 2s 101ms/step - loss: 0.7734 - accuracy: 0.7407 - val_loss: 0.7537 - val_accuracy: 0.7583\n",
      "Epoch 49/100\n",
      "17/17 [==============================] - 2s 106ms/step - loss: 0.7611 - accuracy: 0.7463 - val_loss: 0.7436 - val_accuracy: 0.7583\n",
      "Epoch 50/100\n",
      "17/17 [==============================] - 2s 106ms/step - loss: 0.7493 - accuracy: 0.7472 - val_loss: 0.7333 - val_accuracy: 0.7667\n",
      "Epoch 51/100\n",
      "17/17 [==============================] - 2s 106ms/step - loss: 0.7380 - accuracy: 0.7537 - val_loss: 0.7244 - val_accuracy: 0.7667\n",
      "Epoch 52/100\n",
      "17/17 [==============================] - 2s 106ms/step - loss: 0.7272 - accuracy: 0.7537 - val_loss: 0.7157 - val_accuracy: 0.7750\n",
      "Epoch 53/100\n",
      "17/17 [==============================] - 2s 106ms/step - loss: 0.7170 - accuracy: 0.7593 - val_loss: 0.7076 - val_accuracy: 0.7667\n",
      "Epoch 54/100\n",
      "17/17 [==============================] - 2s 101ms/step - loss: 0.7073 - accuracy: 0.7630 - val_loss: 0.6997 - val_accuracy: 0.7667\n",
      "Epoch 55/100\n",
      "17/17 [==============================] - 2s 106ms/step - loss: 0.6978 - accuracy: 0.7676 - val_loss: 0.6912 - val_accuracy: 0.7667\n",
      "Epoch 56/100\n",
      "17/17 [==============================] - 2s 102ms/step - loss: 0.6886 - accuracy: 0.7685 - val_loss: 0.6840 - val_accuracy: 0.7667\n",
      "Epoch 57/100\n",
      "17/17 [==============================] - 2s 106ms/step - loss: 0.6798 - accuracy: 0.7694 - val_loss: 0.6770 - val_accuracy: 0.7667\n",
      "Epoch 58/100\n",
      "17/17 [==============================] - 2s 106ms/step - loss: 0.6713 - accuracy: 0.7741 - val_loss: 0.6701 - val_accuracy: 0.7667\n",
      "Epoch 59/100\n",
      "17/17 [==============================] - 2s 106ms/step - loss: 0.6632 - accuracy: 0.7778 - val_loss: 0.6628 - val_accuracy: 0.7667\n",
      "Epoch 60/100\n",
      "17/17 [==============================] - 2s 106ms/step - loss: 0.6550 - accuracy: 0.7796 - val_loss: 0.6579 - val_accuracy: 0.7667\n",
      "Epoch 61/100\n",
      "17/17 [==============================] - 2s 106ms/step - loss: 0.6486 - accuracy: 0.7796 - val_loss: 0.6500 - val_accuracy: 0.7750\n",
      "Epoch 62/100\n",
      "17/17 [==============================] - 2s 107ms/step - loss: 0.6395 - accuracy: 0.7852 - val_loss: 0.6458 - val_accuracy: 0.7667\n",
      "Epoch 63/100\n",
      "17/17 [==============================] - 2s 106ms/step - loss: 0.6343 - accuracy: 0.7870 - val_loss: 0.6386 - val_accuracy: 0.7750\n",
      "Epoch 64/100\n",
      "17/17 [==============================] - 2s 111ms/step - loss: 0.6254 - accuracy: 0.7926 - val_loss: 0.6327 - val_accuracy: 0.7750\n",
      "Epoch 65/100\n",
      "17/17 [==============================] - 2s 106ms/step - loss: 0.6200 - accuracy: 0.7944 - val_loss: 0.6260 - val_accuracy: 0.7917\n",
      "Epoch 66/100\n",
      "17/17 [==============================] - 2s 106ms/step - loss: 0.6123 - accuracy: 0.7972 - val_loss: 0.6211 - val_accuracy: 0.7750\n",
      "Epoch 67/100\n",
      "17/17 [==============================] - 2s 106ms/step - loss: 0.6065 - accuracy: 0.7991 - val_loss: 0.6153 - val_accuracy: 0.7917\n",
      "Epoch 68/100\n",
      "17/17 [==============================] - 2s 106ms/step - loss: 0.5990 - accuracy: 0.8019 - val_loss: 0.6099 - val_accuracy: 0.7750\n",
      "Epoch 69/100\n",
      "17/17 [==============================] - 2s 106ms/step - loss: 0.5934 - accuracy: 0.8056 - val_loss: 0.6037 - val_accuracy: 0.7917\n",
      "Epoch 70/100\n",
      "17/17 [==============================] - 2s 106ms/step - loss: 0.5867 - accuracy: 0.8065 - val_loss: 0.5982 - val_accuracy: 0.7917\n",
      "Epoch 71/100\n",
      "17/17 [==============================] - 2s 106ms/step - loss: 0.5807 - accuracy: 0.8093 - val_loss: 0.5928 - val_accuracy: 0.7833\n",
      "Epoch 72/100\n",
      "17/17 [==============================] - 2s 106ms/step - loss: 0.5744 - accuracy: 0.8130 - val_loss: 0.5875 - val_accuracy: 0.7833\n",
      "Epoch 73/100\n",
      "17/17 [==============================] - 2s 106ms/step - loss: 0.5691 - accuracy: 0.8139 - val_loss: 0.5826 - val_accuracy: 0.7917\n",
      "Epoch 74/100\n",
      "17/17 [==============================] - 2s 111ms/step - loss: 0.5627 - accuracy: 0.8167 - val_loss: 0.5771 - val_accuracy: 0.7833\n",
      "Epoch 75/100\n",
      "17/17 [==============================] - 2s 106ms/step - loss: 0.5569 - accuracy: 0.8157 - val_loss: 0.5730 - val_accuracy: 0.7750\n",
      "Epoch 76/100\n",
      "17/17 [==============================] - 2s 106ms/step - loss: 0.5514 - accuracy: 0.8185 - val_loss: 0.5687 - val_accuracy: 0.7833\n",
      "Epoch 77/100\n",
      "17/17 [==============================] - 2s 111ms/step - loss: 0.5458 - accuracy: 0.8204 - val_loss: 0.5643 - val_accuracy: 0.7833\n",
      "Epoch 78/100\n",
      "17/17 [==============================] - 2s 111ms/step - loss: 0.5400 - accuracy: 0.8222 - val_loss: 0.5606 - val_accuracy: 0.7833\n",
      "Epoch 79/100\n",
      "17/17 [==============================] - 2s 106ms/step - loss: 0.5358 - accuracy: 0.8231 - val_loss: 0.5565 - val_accuracy: 0.7750\n",
      "Epoch 80/100\n",
      "17/17 [==============================] - 2s 106ms/step - loss: 0.5296 - accuracy: 0.8231 - val_loss: 0.5522 - val_accuracy: 0.7833\n",
      "Epoch 81/100\n",
      "17/17 [==============================] - 2s 106ms/step - loss: 0.5246 - accuracy: 0.8259 - val_loss: 0.5492 - val_accuracy: 0.7833\n",
      "Epoch 82/100\n",
      "17/17 [==============================] - 2s 112ms/step - loss: 0.5201 - accuracy: 0.8269 - val_loss: 0.5451 - val_accuracy: 0.7833\n",
      "Epoch 83/100\n",
      "17/17 [==============================] - 2s 106ms/step - loss: 0.5145 - accuracy: 0.8278 - val_loss: 0.5410 - val_accuracy: 0.7917\n",
      "Epoch 84/100\n",
      "17/17 [==============================] - 2s 111ms/step - loss: 0.5094 - accuracy: 0.8287 - val_loss: 0.5372 - val_accuracy: 0.7917\n",
      "Epoch 85/100\n",
      "17/17 [==============================] - 2s 111ms/step - loss: 0.5041 - accuracy: 0.8352 - val_loss: 0.5356 - val_accuracy: 0.7833\n",
      "Epoch 86/100\n",
      "17/17 [==============================] - 2s 106ms/step - loss: 0.5004 - accuracy: 0.8370 - val_loss: 0.5302 - val_accuracy: 0.8000\n",
      "Epoch 87/100\n",
      "17/17 [==============================] - 2s 107ms/step - loss: 0.4958 - accuracy: 0.8361 - val_loss: 0.5261 - val_accuracy: 0.8000\n",
      "Epoch 88/100\n",
      "17/17 [==============================] - 2s 106ms/step - loss: 0.4909 - accuracy: 0.8417 - val_loss: 0.5221 - val_accuracy: 0.7917\n",
      "Epoch 89/100\n",
      "17/17 [==============================] - 2s 106ms/step - loss: 0.4857 - accuracy: 0.8426 - val_loss: 0.5194 - val_accuracy: 0.7917\n",
      "Epoch 90/100\n",
      "17/17 [==============================] - 2s 106ms/step - loss: 0.4824 - accuracy: 0.8472 - val_loss: 0.5151 - val_accuracy: 0.8000\n",
      "Epoch 91/100\n",
      "17/17 [==============================] - 2s 107ms/step - loss: 0.4771 - accuracy: 0.8454 - val_loss: 0.5116 - val_accuracy: 0.7917\n",
      "Epoch 92/100\n",
      "17/17 [==============================] - 2s 106ms/step - loss: 0.4724 - accuracy: 0.8463 - val_loss: 0.5103 - val_accuracy: 0.8000\n",
      "Epoch 93/100\n",
      "17/17 [==============================] - 2s 106ms/step - loss: 0.4694 - accuracy: 0.8491 - val_loss: 0.5044 - val_accuracy: 0.8000\n",
      "Epoch 94/100\n",
      "17/17 [==============================] - 2s 107ms/step - loss: 0.4653 - accuracy: 0.8519 - val_loss: 0.5010 - val_accuracy: 0.7917\n",
      "Epoch 95/100\n",
      "17/17 [==============================] - 2s 106ms/step - loss: 0.4610 - accuracy: 0.8546 - val_loss: 0.4975 - val_accuracy: 0.8000\n",
      "Epoch 96/100\n",
      "17/17 [==============================] - 2s 106ms/step - loss: 0.4565 - accuracy: 0.8574 - val_loss: 0.4941 - val_accuracy: 0.8000\n",
      "Epoch 97/100\n",
      "17/17 [==============================] - 2s 106ms/step - loss: 0.4519 - accuracy: 0.8602 - val_loss: 0.4913 - val_accuracy: 0.8000\n",
      "Epoch 98/100\n",
      "17/17 [==============================] - 2s 106ms/step - loss: 0.4480 - accuracy: 0.8611 - val_loss: 0.4887 - val_accuracy: 0.7917\n",
      "Epoch 99/100\n",
      "17/17 [==============================] - 2s 106ms/step - loss: 0.4439 - accuracy: 0.8620 - val_loss: 0.4854 - val_accuracy: 0.7917\n",
      "Epoch 100/100\n",
      "17/17 [==============================] - 2s 106ms/step - loss: 0.4401 - accuracy: 0.8630 - val_loss: 0.4823 - val_accuracy: 0.7917\n"
     ]
    }
   ],
   "source": [
    "train_dataset = tf.data.Dataset.from_tensor_slices((X_train, Y_train)).batch(64)\n",
    "test_dataset = tf.data.Dataset.from_tensor_slices((X_test, Y_test)).batch(64)\n",
    "history = conv_model.fit(train_dataset, epochs=100, validation_data=test_dataset)"
   ]
  },
  {
   "cell_type": "markdown",
   "metadata": {},
   "source": [
    "<a name='5'></a>\n",
    "## 5 - History Object \n",
    "\n",
    "The history object is an output of the `.fit()` operation, and provides a record of all the loss and metric values in memory. It's stored as a dictionary that you can retrieve at `history.history`: "
   ]
  },
  {
   "cell_type": "code",
   "execution_count": 20,
   "metadata": {},
   "outputs": [
    {
     "data": {
      "text/plain": [
       "{'loss': [1.8360220193862915,\n",
       "  1.7876660823822021,\n",
       "  1.781990885734558,\n",
       "  1.7781264781951904,\n",
       "  1.7738587856292725,\n",
       "  1.768749475479126,\n",
       "  1.7623600959777832,\n",
       "  1.7535600662231445,\n",
       "  1.7436262369155884,\n",
       "  1.7318872213363647,\n",
       "  1.7174679040908813,\n",
       "  1.7008906602859497,\n",
       "  1.6815462112426758,\n",
       "  1.6594799757003784,\n",
       "  1.6342183351516724,\n",
       "  1.606086254119873,\n",
       "  1.5759230852127075,\n",
       "  1.5436745882034302,\n",
       "  1.5100629329681396,\n",
       "  1.475197672843933,\n",
       "  1.4395817518234253,\n",
       "  1.4031751155853271,\n",
       "  1.3666820526123047,\n",
       "  1.3314496278762817,\n",
       "  1.29470694065094,\n",
       "  1.2578120231628418,\n",
       "  1.2217411994934082,\n",
       "  1.187156081199646,\n",
       "  1.154236912727356,\n",
       "  1.1229954957962036,\n",
       "  1.0925564765930176,\n",
       "  1.0652823448181152,\n",
       "  1.0381853580474854,\n",
       "  1.0144281387329102,\n",
       "  0.9900614619255066,\n",
       "  0.9687379002571106,\n",
       "  0.9483880996704102,\n",
       "  0.9286724328994751,\n",
       "  0.9098989963531494,\n",
       "  0.8918011784553528,\n",
       "  0.8746915459632874,\n",
       "  0.8582210540771484,\n",
       "  0.8426929116249084,\n",
       "  0.8269558548927307,\n",
       "  0.8127755522727966,\n",
       "  0.7992059588432312,\n",
       "  0.7859622240066528,\n",
       "  0.7734217047691345,\n",
       "  0.7610588073730469,\n",
       "  0.7493016719818115,\n",
       "  0.73799729347229,\n",
       "  0.7272158861160278,\n",
       "  0.7169829607009888,\n",
       "  0.7072958946228027,\n",
       "  0.6977643966674805,\n",
       "  0.6885573863983154,\n",
       "  0.6798419952392578,\n",
       "  0.6712933778762817,\n",
       "  0.6631613969802856,\n",
       "  0.6549589037895203,\n",
       "  0.648576557636261,\n",
       "  0.6395032405853271,\n",
       "  0.6343088150024414,\n",
       "  0.6253805160522461,\n",
       "  0.6199797987937927,\n",
       "  0.6122693419456482,\n",
       "  0.6064984798431396,\n",
       "  0.5989888310432434,\n",
       "  0.5934140086174011,\n",
       "  0.5866904258728027,\n",
       "  0.5807027220726013,\n",
       "  0.5744492411613464,\n",
       "  0.5690893530845642,\n",
       "  0.5627334713935852,\n",
       "  0.5569049119949341,\n",
       "  0.5514453053474426,\n",
       "  0.5457904934883118,\n",
       "  0.540027379989624,\n",
       "  0.5357849597930908,\n",
       "  0.5296194553375244,\n",
       "  0.524624764919281,\n",
       "  0.5200904011726379,\n",
       "  0.5145246982574463,\n",
       "  0.5094321370124817,\n",
       "  0.5041013956069946,\n",
       "  0.5004397034645081,\n",
       "  0.4957714378833771,\n",
       "  0.49088457226753235,\n",
       "  0.4857026934623718,\n",
       "  0.4823670983314514,\n",
       "  0.4771110713481903,\n",
       "  0.47237247228622437,\n",
       "  0.4694124162197113,\n",
       "  0.46534109115600586,\n",
       "  0.4610174894332886,\n",
       "  0.4565039575099945,\n",
       "  0.45194211602211,\n",
       "  0.4479632079601288,\n",
       "  0.4439495801925659,\n",
       "  0.4401097297668457],\n",
       " 'accuracy': [0.1666666716337204,\n",
       "  0.17037037014961243,\n",
       "  0.24629630148410797,\n",
       "  0.24537037312984467,\n",
       "  0.28148147463798523,\n",
       "  0.3212963044643402,\n",
       "  0.3342592716217041,\n",
       "  0.3722222149372101,\n",
       "  0.38425925374031067,\n",
       "  0.4000000059604645,\n",
       "  0.41203704476356506,\n",
       "  0.41296297311782837,\n",
       "  0.42500001192092896,\n",
       "  0.4416666626930237,\n",
       "  0.4583333432674408,\n",
       "  0.46574074029922485,\n",
       "  0.48148149251937866,\n",
       "  0.49166667461395264,\n",
       "  0.5064814686775208,\n",
       "  0.5129629373550415,\n",
       "  0.5351851582527161,\n",
       "  0.5407407283782959,\n",
       "  0.5435185432434082,\n",
       "  0.5481481552124023,\n",
       "  0.5666666626930237,\n",
       "  0.5824074149131775,\n",
       "  0.5925925970077515,\n",
       "  0.6064814925193787,\n",
       "  0.6101852059364319,\n",
       "  0.6222222447395325,\n",
       "  0.6370370388031006,\n",
       "  0.6425926089286804,\n",
       "  0.6490740776062012,\n",
       "  0.6555555462837219,\n",
       "  0.6657407283782959,\n",
       "  0.6703703999519348,\n",
       "  0.6814814805984497,\n",
       "  0.6888889074325562,\n",
       "  0.6944444179534912,\n",
       "  0.699999988079071,\n",
       "  0.7055555582046509,\n",
       "  0.710185170173645,\n",
       "  0.7148148417472839,\n",
       "  0.7250000238418579,\n",
       "  0.7277777791023254,\n",
       "  0.7370370626449585,\n",
       "  0.7379629611968994,\n",
       "  0.7407407164573669,\n",
       "  0.7462962865829468,\n",
       "  0.7472222447395325,\n",
       "  0.7537037134170532,\n",
       "  0.7537037134170532,\n",
       "  0.7592592835426331,\n",
       "  0.7629629373550415,\n",
       "  0.7675926089286804,\n",
       "  0.7685185074806213,\n",
       "  0.769444465637207,\n",
       "  0.7740740776062012,\n",
       "  0.7777777910232544,\n",
       "  0.779629647731781,\n",
       "  0.779629647731781,\n",
       "  0.7851851582527161,\n",
       "  0.7870370149612427,\n",
       "  0.7925925850868225,\n",
       "  0.7944444417953491,\n",
       "  0.7972221970558167,\n",
       "  0.7990740537643433,\n",
       "  0.8018518686294556,\n",
       "  0.8055555820465088,\n",
       "  0.8064814805984497,\n",
       "  0.8092592358589172,\n",
       "  0.8129629492759705,\n",
       "  0.8138889074325562,\n",
       "  0.8166666626930237,\n",
       "  0.8157407641410828,\n",
       "  0.8185185194015503,\n",
       "  0.8203703761100769,\n",
       "  0.8222222328186035,\n",
       "  0.8231481313705444,\n",
       "  0.8231481313705444,\n",
       "  0.8259259462356567,\n",
       "  0.8268518447875977,\n",
       "  0.8277778029441833,\n",
       "  0.8287037014961243,\n",
       "  0.835185170173645,\n",
       "  0.8370370268821716,\n",
       "  0.8361111283302307,\n",
       "  0.8416666388511658,\n",
       "  0.8425925970077515,\n",
       "  0.8472222089767456,\n",
       "  0.845370352268219,\n",
       "  0.8462963104248047,\n",
       "  0.8490740656852722,\n",
       "  0.8518518805503845,\n",
       "  0.854629635810852,\n",
       "  0.8574073910713196,\n",
       "  0.8601852059364319,\n",
       "  0.8611111044883728,\n",
       "  0.8620370626449585,\n",
       "  0.8629629611968994],\n",
       " 'val_loss': [1.7872543334960938,\n",
       "  1.7806932926177979,\n",
       "  1.7764688730239868,\n",
       "  1.7722893953323364,\n",
       "  1.7669886350631714,\n",
       "  1.7605514526367188,\n",
       "  1.7526692152023315,\n",
       "  1.7424144744873047,\n",
       "  1.7300102710723877,\n",
       "  1.7150723934173584,\n",
       "  1.6974893808364868,\n",
       "  1.6759363412857056,\n",
       "  1.6517237424850464,\n",
       "  1.6242454051971436,\n",
       "  1.593912959098816,\n",
       "  1.5618313550949097,\n",
       "  1.527531385421753,\n",
       "  1.4915112257003784,\n",
       "  1.454777479171753,\n",
       "  1.4175044298171997,\n",
       "  1.3805607557296753,\n",
       "  1.3460911512374878,\n",
       "  1.3117331266403198,\n",
       "  1.2741948366165161,\n",
       "  1.2379668951034546,\n",
       "  1.2008919715881348,\n",
       "  1.168520212173462,\n",
       "  1.1376979351043701,\n",
       "  1.1068878173828125,\n",
       "  1.0767896175384521,\n",
       "  1.0495789051055908,\n",
       "  1.023363709449768,\n",
       "  0.9998328685760498,\n",
       "  0.97607421875,\n",
       "  0.954897940158844,\n",
       "  0.9353435635566711,\n",
       "  0.9157508611679077,\n",
       "  0.8970405459403992,\n",
       "  0.87896728515625,\n",
       "  0.8626506924629211,\n",
       "  0.8460423350334167,\n",
       "  0.8310950994491577,\n",
       "  0.81581050157547,\n",
       "  0.8019798994064331,\n",
       "  0.7895475625991821,\n",
       "  0.777046799659729,\n",
       "  0.7650815844535828,\n",
       "  0.7537084221839905,\n",
       "  0.7435570955276489,\n",
       "  0.733285665512085,\n",
       "  0.7243725061416626,\n",
       "  0.7157259583473206,\n",
       "  0.7076311111450195,\n",
       "  0.6996889710426331,\n",
       "  0.6911742091178894,\n",
       "  0.6840076446533203,\n",
       "  0.6769561171531677,\n",
       "  0.670060396194458,\n",
       "  0.6627791523933411,\n",
       "  0.6579400897026062,\n",
       "  0.6499942541122437,\n",
       "  0.645788848400116,\n",
       "  0.6385833621025085,\n",
       "  0.6326631307601929,\n",
       "  0.6260238289833069,\n",
       "  0.6210829019546509,\n",
       "  0.6152769923210144,\n",
       "  0.6098847985267639,\n",
       "  0.6036694049835205,\n",
       "  0.5981743335723877,\n",
       "  0.5927737951278687,\n",
       "  0.5874804854393005,\n",
       "  0.5826069116592407,\n",
       "  0.5771128535270691,\n",
       "  0.5730167627334595,\n",
       "  0.5686558485031128,\n",
       "  0.5642703771591187,\n",
       "  0.5605968832969666,\n",
       "  0.5564725399017334,\n",
       "  0.552176296710968,\n",
       "  0.5491503477096558,\n",
       "  0.5451362729072571,\n",
       "  0.5409946441650391,\n",
       "  0.5371590852737427,\n",
       "  0.5356262922286987,\n",
       "  0.5302304029464722,\n",
       "  0.5260775685310364,\n",
       "  0.522081732749939,\n",
       "  0.5193753838539124,\n",
       "  0.5151299834251404,\n",
       "  0.5116235613822937,\n",
       "  0.5102881193161011,\n",
       "  0.5043854117393494,\n",
       "  0.5009906888008118,\n",
       "  0.4975489377975464,\n",
       "  0.49410131573677063,\n",
       "  0.49133598804473877,\n",
       "  0.48868557810783386,\n",
       "  0.4854484498500824,\n",
       "  0.48229068517684937],\n",
       " 'val_accuracy': [0.1666666716337204,\n",
       "  0.18333333730697632,\n",
       "  0.32499998807907104,\n",
       "  0.3916666805744171,\n",
       "  0.40833333134651184,\n",
       "  0.4166666567325592,\n",
       "  0.4749999940395355,\n",
       "  0.4833333194255829,\n",
       "  0.4749999940395355,\n",
       "  0.4833333194255829,\n",
       "  0.4583333432674408,\n",
       "  0.49166667461395264,\n",
       "  0.5,\n",
       "  0.5166666507720947,\n",
       "  0.5333333611488342,\n",
       "  0.5416666865348816,\n",
       "  0.5416666865348816,\n",
       "  0.5249999761581421,\n",
       "  0.5666666626930237,\n",
       "  0.574999988079071,\n",
       "  0.574999988079071,\n",
       "  0.5916666388511658,\n",
       "  0.550000011920929,\n",
       "  0.5583333373069763,\n",
       "  0.5666666626930237,\n",
       "  0.5916666388511658,\n",
       "  0.5916666388511658,\n",
       "  0.5916666388511658,\n",
       "  0.5833333134651184,\n",
       "  0.6083333492279053,\n",
       "  0.625,\n",
       "  0.6499999761581421,\n",
       "  0.6666666865348816,\n",
       "  0.675000011920929,\n",
       "  0.675000011920929,\n",
       "  0.6833333373069763,\n",
       "  0.6833333373069763,\n",
       "  0.6916666626930237,\n",
       "  0.699999988079071,\n",
       "  0.699999988079071,\n",
       "  0.7166666388511658,\n",
       "  0.7250000238418579,\n",
       "  0.7250000238418579,\n",
       "  0.75,\n",
       "  0.7416666746139526,\n",
       "  0.75,\n",
       "  0.7583333253860474,\n",
       "  0.7583333253860474,\n",
       "  0.7583333253860474,\n",
       "  0.7666666507720947,\n",
       "  0.7666666507720947,\n",
       "  0.7749999761581421,\n",
       "  0.7666666507720947,\n",
       "  0.7666666507720947,\n",
       "  0.7666666507720947,\n",
       "  0.7666666507720947,\n",
       "  0.7666666507720947,\n",
       "  0.7666666507720947,\n",
       "  0.7666666507720947,\n",
       "  0.7666666507720947,\n",
       "  0.7749999761581421,\n",
       "  0.7666666507720947,\n",
       "  0.7749999761581421,\n",
       "  0.7749999761581421,\n",
       "  0.7916666865348816,\n",
       "  0.7749999761581421,\n",
       "  0.7916666865348816,\n",
       "  0.7749999761581421,\n",
       "  0.7916666865348816,\n",
       "  0.7916666865348816,\n",
       "  0.7833333611488342,\n",
       "  0.7833333611488342,\n",
       "  0.7916666865348816,\n",
       "  0.7833333611488342,\n",
       "  0.7749999761581421,\n",
       "  0.7833333611488342,\n",
       "  0.7833333611488342,\n",
       "  0.7833333611488342,\n",
       "  0.7749999761581421,\n",
       "  0.7833333611488342,\n",
       "  0.7833333611488342,\n",
       "  0.7833333611488342,\n",
       "  0.7916666865348816,\n",
       "  0.7916666865348816,\n",
       "  0.7833333611488342,\n",
       "  0.800000011920929,\n",
       "  0.800000011920929,\n",
       "  0.7916666865348816,\n",
       "  0.7916666865348816,\n",
       "  0.800000011920929,\n",
       "  0.7916666865348816,\n",
       "  0.800000011920929,\n",
       "  0.800000011920929,\n",
       "  0.7916666865348816,\n",
       "  0.800000011920929,\n",
       "  0.800000011920929,\n",
       "  0.800000011920929,\n",
       "  0.7916666865348816,\n",
       "  0.7916666865348816,\n",
       "  0.7916666865348816]}"
      ]
     },
     "execution_count": 20,
     "metadata": {},
     "output_type": "execute_result"
    }
   ],
   "source": [
    "history.history"
   ]
  },
  {
   "cell_type": "markdown",
   "metadata": {},
   "source": [
    "Now visualize the loss over time using `history.history`: "
   ]
  },
  {
   "cell_type": "code",
   "execution_count": 21,
   "metadata": {},
   "outputs": [
    {
     "data": {
      "text/plain": [
       "[Text(0, 0.5, 'Accuracy'), Text(0.5, 0, 'Epoch')]"
      ]
     },
     "execution_count": 21,
     "metadata": {},
     "output_type": "execute_result"
    },
    {
     "data": {
      "image/png": "[encoded data removed]",
      "text/plain": [
       "<Figure size 864x576 with 1 Axes>"
      ]
     },
     "metadata": {
      "needs_background": "light"
     },
     "output_type": "display_data"
    },
    {
     "data": {
      "image/png": "[encoded data removed]",
      "text/plain": [
       "<Figure size 864x576 with 1 Axes>"
      ]
     },
     "metadata": {
      "needs_background": "light"
     },
     "output_type": "display_data"
    }
   ],
   "source": [
    "# The history.history[\"loss\"] entry is a dictionary with as many values as epochs that the\n",
    "# model was trained on. \n",
    "df_loss_acc = pd.DataFrame(history.history)\n",
    "df_loss= df_loss_acc[['loss','val_loss']]\n",
    "df_loss.rename(columns={'loss':'train','val_loss':'validation'},inplace=True)\n",
    "df_acc= df_loss_acc[['accuracy','val_accuracy']]\n",
    "df_acc.rename(columns={'accuracy':'train','val_accuracy':'validation'},inplace=True)\n",
    "df_loss.plot(title='Model loss',figsize=(12,8)).set(xlabel='Epoch',ylabel='Loss')\n",
    "df_acc.plot(title='Model Accuracy',figsize=(12,8)).set(xlabel='Epoch',ylabel='Accuracy')"
   ]
  },
  {
   "cell_type": "markdown",
   "metadata": {},
   "source": [
    "**Congratulations**! You've finished the assignment and built two models: One that recognizes  smiles, and another that recognizes SIGN language with almost 80% accuracy on the test set. In addition to that, you now also understand the applications of two Keras APIs: Sequential and Functional. Nicely done! \n",
    "\n",
    "By now, you know a bit about how the Functional API works and may have glimpsed the possibilities. In your next assignment, you'll really get a feel for its power when you get the opportunity to build a very deep ConvNet, using ResNets! "
   ]
  },
  {
   "cell_type": "markdown",
   "metadata": {},
   "source": [
    "<a name='6'></a>\n",
    "## 6 - Bibliography\n",
    "\n",
    "You're always encouraged to read the official documentation. To that end, you can find the docs for the Sequential and Functional APIs here: \n",
    "\n",
    "https://www.tensorflow.org/guide/keras/sequential_model\n",
    "\n",
    "https://www.tensorflow.org/guide/keras/functional"
   ]
  }
 ],
 "metadata": {
  "coursera": {
   "course_slug": "convolutional-neural-networks",
   "graded_item_id": "bwbJV",
   "launcher_item_id": "0TkXB"
  },
  "kernelspec": {
   "display_name": "Python 3",
   "language": "python",
   "name": "python3"
  },
  "language_info": {
   "codemirror_mode": {
    "name": "ipython",
    "version": 3
   },
   "file_extension": ".py",
   "mimetype": "text/x-python",
   "name": "python",
   "nbconvert_exporter": "python",
   "pygments_lexer": "ipython3",
   "version": "3.7.6"
  }
 },
 "nbformat": 4,
 "nbformat_minor": 2
}
